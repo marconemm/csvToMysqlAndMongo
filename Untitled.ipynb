{
 "cells": [
  {
   "cell_type": "markdown",
   "id": "8d0c1fd6-021d-4e8b-890d-761be4646b27",
   "metadata": {},
   "source": [
    "ARQUIVO NA 1° FORMA NORMAL"
   ]
  },
  {
   "cell_type": "code",
   "execution_count": null,
   "id": "89b72724-2218-4b1d-9a5e-4f543b9a8116",
   "metadata": {},
   "outputs": [],
   "source": [
    "import pandas as pd\n",
    "\n",
    "# Carregar o arquivo CSV para um DataFrame\n",
    "df = pd.read_csv('netflix_titles.csv', encoding='latin1')\n",
    "\n",
    "# Lista para armazenar os DataFrames normalizados\n",
    "normalized_dfs = []\n",
    "\n",
    "# Normalizar colunas com mais de um valor por linha\n",
    "for col in df.columns:\n",
    "    # Converter a coluna para o tipo string\n",
    "    df[col] = df[col].astype(str)\n",
    "    # Dividir a coluna em várias colunas\n",
    "    split_cols = df[col].str.split(',').apply(pd.Series)\n",
    "    # Renomear as novas colunas\n",
    "    split_cols = split_cols.rename(columns=lambda x: f'{col}_{x}')\n",
    "    # Adicionar os novos DataFrames à lista\n",
    "    normalized_dfs.append(split_cols)\n",
    "\n",
    "# Concatenar todos os DataFrames normalizados\n",
    "result_df = pd.concat(normalized_dfs, axis=1)\n",
    "\n",
    "# Salvar o DataFrame normalizado em um novo arquivo CSV\n",
    "result_df.to_csv('arquivo_normalizado.csv', index=False)\n"
   ]
  },
  {
   "cell_type": "markdown",
   "id": "cc9aa641-d869-4726-9af1-92b41e9fce51",
   "metadata": {},
   "source": [
    "ARQUIVO DIRETORES SEPARADO"
   ]
  },
  {
   "cell_type": "code",
   "execution_count": 7,
   "id": "fe9286fe-8130-4f61-97d3-a79fc1cebb11",
   "metadata": {},
   "outputs": [],
   "source": [
    "import pandas as pd\n",
    "\n",
    "# Ler o arquivo CSV\n",
    "df = pd.read_csv('arquivo_normalizado.csv', low_memory=False)\n",
    "\n",
    "# Selecionar todas as colunas relacionadas a diretores\n",
    "diretor_columns = [col for col in df.columns if 'director' in col.lower()]\n",
    "\n",
    "# Combinar todas as colunas de diretores em uma única coluna\n",
    "df['director'] = df[diretor_columns].apply(lambda x: ', '.join(x.dropna().astype(str)), axis=1)\n",
    "\n",
    "# Remover as colunas de diretores originais\n",
    "df.drop(diretor_columns, axis=1, inplace=True)\n",
    "\n",
    "# Dividir os diretores em linhas separadas\n",
    "df = df.assign(director=df['director'].str.split(', ')).explode('director')\n",
    "\n",
    "# Remover linhas vazias\n",
    "df = df.dropna(subset=['director'])\n",
    "\n",
    "# Resetar os índices\n",
    "df.reset_index(drop=True, inplace=True)\n",
    "\n",
    "# Salvar os diretores em um novo arquivo CSV\n",
    "df['director'].to_csv('diretores.csv', index=False, header=['director'])\n"
   ]
  },
  {
   "cell_type": "markdown",
   "id": "48ab22d4-25c3-493e-b016-14a127f75dba",
   "metadata": {},
   "source": [
    "ARQUIVO DIRETOR SEM LINHAS VAZIAS"
   ]
  },
  {
   "cell_type": "code",
   "execution_count": 1,
   "id": "841b07cf-ec6e-4b96-92b6-fefe8e078d65",
   "metadata": {},
   "outputs": [],
   "source": [
    "import pandas as pd\n",
    "\n",
    "# Ler o arquivo CSV\n",
    "df = pd.read_csv('diretores.csv')\n",
    "\n",
    "# Remover linhas vazias da coluna 'director'\n",
    "df = df.dropna(subset=['director'])\n",
    "\n",
    "# Resetar os índices\n",
    "df.reset_index(drop=True, inplace=True)\n",
    "\n",
    "# Salvar o DataFrame resultante em um novo arquivo CSV\n",
    "df.to_csv('diretores_sem_vazios.csv', index=False)\n"
   ]
  },
  {
   "cell_type": "markdown",
   "id": "b3ddc04d-f976-411d-9e17-a262dbc6d16f",
   "metadata": {},
   "source": [
    "ARQUIVO ELENCO SEM LINHAS VAZIO"
   ]
  },
  {
   "cell_type": "code",
   "execution_count": 5,
   "id": "01a02947-1819-446c-837b-5751c07dcd1f",
   "metadata": {},
   "outputs": [],
   "source": [
    "import pandas as pd\n",
    "\n",
    "# Ler o arquivo CSV\n",
    "df = pd.read_csv('netflix_titles.csv', encoding='latin1')\n",
    "\n",
    "# Remover linhas vazias da coluna 'cast'\n",
    "df = df.dropna(subset=['cast'])\n",
    "\n",
    "# Dividir os valores da coluna 'cast' em múltiplas linhas\n",
    "cast_series = df['cast'].str.split(',').explode().str.strip()\n",
    "\n",
    "# Criar um novo DataFrame com a coluna 'cast' isolada\n",
    "new_df = pd.DataFrame({'cast': cast_series})\n",
    "\n",
    "# Salvar o novo DataFrame em um novo arquivo CSV\n",
    "new_df.to_csv('netflix_cast.csv', index=False)\n"
   ]
  },
  {
   "cell_type": "markdown",
   "id": "e7cb06ab-1db1-4e82-b19d-c4ad0baf115f",
   "metadata": {},
   "source": [
    "ARQUIVO PAÍS SEM LINHAS VAZIO"
   ]
  },
  {
   "cell_type": "code",
   "execution_count": 7,
   "id": "78fc8950-4f41-48ee-baac-4d31ba28d874",
   "metadata": {},
   "outputs": [],
   "source": [
    "import pandas as pd\n",
    "\n",
    "# Ler o arquivo CSV\n",
    "df = pd.read_csv('netflix_titles.csv', encoding='latin1')\n",
    "\n",
    "# Remover linhas vazias da coluna 'country'\n",
    "df = df.dropna(subset=['country'])\n",
    "\n",
    "# Dividir os valores da coluna 'country' em múltiplas linhas\n",
    "country_series = df['country'].str.split(',').explode().str.strip()\n",
    "\n",
    "# Criar um novo DataFrame com a coluna 'country' isolada\n",
    "new_df = pd.DataFrame({'country': country_series})\n",
    "\n",
    "# Salvar o novo DataFrame em um novo arquivo CSV\n",
    "new_df.to_csv('netflix_country.csv', index=False)\n"
   ]
  },
  {
   "cell_type": "markdown",
   "id": "c5653265-0edc-4109-902d-e9a5a1d94c14",
   "metadata": {},
   "source": [
    "ARQUIVO 'LISTADO EM' SEM LINHAS VAZIO"
   ]
  },
  {
   "cell_type": "code",
   "execution_count": 9,
   "id": "b10e865d-0493-4655-8732-abc021f0e702",
   "metadata": {},
   "outputs": [],
   "source": [
    "import pandas as pd\n",
    "\n",
    "# Ler o arquivo CSV\n",
    "df = pd.read_csv('netflix_titles.csv', encoding='latin1')\n",
    "\n",
    "# Remover linhas vazias da coluna 'country'\n",
    "df = df.dropna(subset=['listed_in'])\n",
    "\n",
    "# Dividir os valores da coluna 'country' em múltiplas linhas\n",
    "country_series = df['listed_in'].str.split(',').explode().str.strip()\n",
    "\n",
    "# Criar um novo DataFrame com a coluna 'country' isolada\n",
    "new_df = pd.DataFrame({'listed_in': country_series})\n",
    "\n",
    "# Salvar o novo DataFrame em um novo arquivo CSV\n",
    "new_df.to_csv('netflix_listed_in.csv', index=False)\n"
   ]
  },
  {
   "cell_type": "markdown",
   "id": "c0c3073d-1785-4ab2-9b81-3868dac99f06",
   "metadata": {},
   "source": [
    "UNIÃO DAS TABELAS NORMALIZADAS"
   ]
  },
  {
   "cell_type": "code",
   "execution_count": 12,
   "id": "34802684-1c66-4ae6-94ba-1e2d853c4770",
   "metadata": {},
   "outputs": [],
   "source": [
    "import pandas as pd\n",
    "\n",
    "# Carregar os arquivos CSV\n",
    "df1 = pd.read_csv('diretores_sem_vazios.csv')\n",
    "df2 = pd.read_csv('netflix_elenco.csv')\n",
    "df3 = pd.read_csv('netflix_país.csv')\n",
    "df4 = pd.read_csv('netflix_listado em.csv')\n",
    "\n",
    "# Unir os dataframes horizontalmente (axis=1)\n",
    "df_novo = pd.concat([df1, df2, df3,df4], axis=1)\n",
    "\n",
    "# Salvar o novo dataframe em um novo arquivo CSV\n",
    "df_novo.to_csv('novo_arquivo.csv', index=False)\n"
   ]
  },
  {
   "cell_type": "markdown",
   "id": "fb18d239-971f-44b9-804b-f82a44fe641c",
   "metadata": {},
   "source": [
    "SEPARANDO COLUNAS QUE NÃO PRECISAM SER NORMALIZADAS DA TABELA ORIGINAL E CRIANDO UMA NOVA TABELA"
   ]
  },
  {
   "cell_type": "code",
   "execution_count": 15,
   "id": "21fb4f56-8eec-40c0-a9c6-287757ea473c",
   "metadata": {},
   "outputs": [],
   "source": [
    "import pandas as pd\n",
    "\n",
    "# Carregar o arquivo CSV original\n",
    "df = pd.read_csv('netflix_titles.csv', encoding='latin1')\n",
    "\n",
    "\n",
    "# Selecionar as colunas desejadas\n",
    "colunas_desejadas = ['show_id', 'type', 'date_added','release_year','rating','duration','description']\n",
    "novo_df = df[colunas_desejadas]\n",
    "\n",
    "# Salvar o novo dataframe em um novo arquivo CSV\n",
    "novo_df.to_csv('separarcolunas_arquivo.csv', index=False)\n"
   ]
  },
  {
   "cell_type": "markdown",
   "id": "b7e54885-4f96-43c7-b0a1-4d3f2b4e2d8a",
   "metadata": {},
   "source": [
    "TABELA NORMALIZADA"
   ]
  },
  {
   "cell_type": "code",
   "execution_count": 20,
   "id": "3eac2b82-44fb-4d45-a118-372394c7d973",
   "metadata": {},
   "outputs": [],
   "source": [
    "import pandas as pd\n",
    "\n",
    "# Carregar os arquivos CSV\n",
    "df1 = pd.read_csv('netflix_titulo.csv')\n",
    "df2 = pd.read_csv('diretores_sem_vazios.csv')\n",
    "df3 = pd.read_csv('netflix_elenco.csv')\n",
    "df4 = pd.read_csv('netflix_país.csv')\n",
    "df5 = pd.read_csv('netflix_listado em.csv')\n",
    "df6 = pd.read_csv('separarcolunas_arquivo.csv')\n",
    "\n",
    "# Unir os dataframes horizontalmente (axis=1)\n",
    "df_novo = pd.concat([df1, df2, df3,df4,df5,df6], axis=1)\n",
    "\n",
    "# Salvar o novo dataframe em um novo arquivo CSV\n",
    "df_novo.to_csv('novo_arquivo_normalizado.csv', index=False)\n"
   ]
  },
  {
   "cell_type": "code",
   "execution_count": 18,
   "id": "69102411-997e-4ab2-b001-4ac6729789fe",
   "metadata": {},
   "outputs": [],
   "source": []
  },
  {
   "cell_type": "code",
   "execution_count": null,
   "id": "0c1110ad-35eb-42ca-988a-4076eec5f840",
   "metadata": {},
   "outputs": [],
   "source": []
  }
 ],
 "metadata": {
  "kernelspec": {
   "display_name": "Python 3 (ipykernel)",
   "language": "python",
   "name": "python3"
  },
  "language_info": {
   "codemirror_mode": {
    "name": "ipython",
    "version": 3
   },
   "file_extension": ".py",
   "mimetype": "text/x-python",
   "name": "python",
   "nbconvert_exporter": "python",
   "pygments_lexer": "ipython3",
   "version": "3.11.7"
  }
 },
 "nbformat": 4,
 "nbformat_minor": 5
}
